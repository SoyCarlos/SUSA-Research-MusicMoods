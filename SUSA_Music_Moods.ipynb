{
  "nbformat": 4,
  "nbformat_minor": 0,
  "metadata": {
    "colab": {
      "name": "SUSA Music Moods.ipynb",
      "version": "0.3.2",
      "provenance": [],
      "toc_visible": true
    },
    "kernelspec": {
      "name": "python3",
      "display_name": "Python 3"
    }
  },
  "cells": [
    {
      "metadata": {
        "id": "3gfdwS3zEo4R",
        "colab_type": "code",
        "colab": {}
      },
      "cell_type": "code",
      "source": [
        "import pandas as pd\n",
        "import nltk"
      ],
      "execution_count": 0,
      "outputs": []
    },
    {
      "metadata": {
        "id": "w2XyvyiNRoVZ",
        "colab_type": "code",
        "colab": {
          "base_uri": "https://localhost:8080/",
          "height": 204
        },
        "outputId": "bda8ecca-51c9-41db-aa57-ecf2ae76d0c7"
      },
      "cell_type": "code",
      "source": [
        "billboard = pd.read_csv(\"billboard_lyrics_1964-2015.csv\")\n",
        "billboard.head()"
      ],
      "execution_count": 8,
      "outputs": [
        {
          "output_type": "execute_result",
          "data": {
            "text/html": [
              "<div>\n",
              "<style scoped>\n",
              "    .dataframe tbody tr th:only-of-type {\n",
              "        vertical-align: middle;\n",
              "    }\n",
              "\n",
              "    .dataframe tbody tr th {\n",
              "        vertical-align: top;\n",
              "    }\n",
              "\n",
              "    .dataframe thead th {\n",
              "        text-align: right;\n",
              "    }\n",
              "</style>\n",
              "<table border=\"1\" class=\"dataframe\">\n",
              "  <thead>\n",
              "    <tr style=\"text-align: right;\">\n",
              "      <th></th>\n",
              "      <th>Rank</th>\n",
              "      <th>Song</th>\n",
              "      <th>Artist</th>\n",
              "      <th>Year</th>\n",
              "      <th>Lyrics</th>\n",
              "      <th>Source</th>\n",
              "    </tr>\n",
              "  </thead>\n",
              "  <tbody>\n",
              "    <tr>\n",
              "      <th>0</th>\n",
              "      <td>1</td>\n",
              "      <td>wooly bully</td>\n",
              "      <td>sam the sham and the pharaohs</td>\n",
              "      <td>1965</td>\n",
              "      <td>sam the sham miscellaneous wooly bully wooly b...</td>\n",
              "      <td>3.0</td>\n",
              "    </tr>\n",
              "    <tr>\n",
              "      <th>1</th>\n",
              "      <td>2</td>\n",
              "      <td>i cant help myself sugar pie honey bunch</td>\n",
              "      <td>four tops</td>\n",
              "      <td>1965</td>\n",
              "      <td>sugar pie honey bunch you know that i love yo...</td>\n",
              "      <td>1.0</td>\n",
              "    </tr>\n",
              "    <tr>\n",
              "      <th>2</th>\n",
              "      <td>3</td>\n",
              "      <td>i cant get no satisfaction</td>\n",
              "      <td>the rolling stones</td>\n",
              "      <td>1965</td>\n",
              "      <td></td>\n",
              "      <td>1.0</td>\n",
              "    </tr>\n",
              "    <tr>\n",
              "      <th>3</th>\n",
              "      <td>4</td>\n",
              "      <td>you were on my mind</td>\n",
              "      <td>we five</td>\n",
              "      <td>1965</td>\n",
              "      <td>when i woke up this morning you were on my mi...</td>\n",
              "      <td>1.0</td>\n",
              "    </tr>\n",
              "    <tr>\n",
              "      <th>4</th>\n",
              "      <td>5</td>\n",
              "      <td>youve lost that lovin feelin</td>\n",
              "      <td>the righteous brothers</td>\n",
              "      <td>1965</td>\n",
              "      <td>you never close your eyes anymore when i kiss...</td>\n",
              "      <td>1.0</td>\n",
              "    </tr>\n",
              "  </tbody>\n",
              "</table>\n",
              "</div>"
            ],
            "text/plain": [
              "   Rank                                      Song  \\\n",
              "0     1                               wooly bully   \n",
              "1     2  i cant help myself sugar pie honey bunch   \n",
              "2     3                i cant get no satisfaction   \n",
              "3     4                       you were on my mind   \n",
              "4     5              youve lost that lovin feelin   \n",
              "\n",
              "                          Artist  Year  \\\n",
              "0  sam the sham and the pharaohs  1965   \n",
              "1                      four tops  1965   \n",
              "2             the rolling stones  1965   \n",
              "3                        we five  1965   \n",
              "4         the righteous brothers  1965   \n",
              "\n",
              "                                              Lyrics  Source  \n",
              "0  sam the sham miscellaneous wooly bully wooly b...     3.0  \n",
              "1   sugar pie honey bunch you know that i love yo...     1.0  \n",
              "2                                                        1.0  \n",
              "3   when i woke up this morning you were on my mi...     1.0  \n",
              "4   you never close your eyes anymore when i kiss...     1.0  "
            ]
          },
          "metadata": {
            "tags": []
          },
          "execution_count": 8
        }
      ]
    },
    {
      "metadata": {
        "id": "K1BcNb-HXdot",
        "colab_type": "code",
        "colab": {}
      },
      "cell_type": "code",
      "source": [
        ""
      ],
      "execution_count": 0,
      "outputs": []
    }
  ]
}