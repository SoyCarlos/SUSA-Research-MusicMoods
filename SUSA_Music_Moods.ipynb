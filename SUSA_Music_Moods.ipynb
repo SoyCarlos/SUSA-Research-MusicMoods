{
  "nbformat": 4,
  "nbformat_minor": 0,
  "metadata": {
    "colab": {
      "name": "SUSA Music Moods.ipynb",
      "version": "0.3.2",
      "provenance": [],
      "collapsed_sections": [],
      "toc_visible": true
    },
    "kernelspec": {
      "name": "python3",
      "display_name": "Python 3"
    }
  },
  "cells": [
    {
      "metadata": {
        "id": "3gfdwS3zEo4R",
        "colab_type": "code",
        "colab": {}
      },
      "cell_type": "code",
      "source": [
        "import pandas as pd\n",
        "import nltk\n",
        "import spotipy\n",
        "import spotipy.util as util\n",
        "import json"
      ],
      "execution_count": 0,
      "outputs": []
    },
    {
      "metadata": {
        "id": "kTBBfIYUp8KD",
        "colab_type": "code",
        "colab": {}
      },
      "cell_type": "code",
      "source": [
        "key_file = 'keys.json'\n",
        "keys = json.load(open(key_file))\n",
        "\n",
        "SPOTIPY_CLIENT_ID= keys[\"client_id\"]\n",
        "SPOTIPY_CLIENT_SECRET= keys[\"client_secret\"]\n",
        "SPOTIPY_REDIRECT_URI= keys[\"redirect_url\"]"
      ],
      "execution_count": 0,
      "outputs": []
    },
    {
      "metadata": {
        "id": "XZTKo-o4q8T1",
        "colab_type": "code",
        "colab": {}
      },
      "cell_type": "code",
      "source": [
        "token = util.prompt_for_user_token(\"1274418332\", \n",
        "                                   scope = \"user-library-read\", \n",
        "                                   client_id=SPOTIPY_CLIENT_ID, \n",
        "                                   client_secret=SPOTIPY_CLIENT_SECRET, \n",
        "                                   redirect_uri = SPOTIPY_REDIRECT_URI)\n",
        "spotify = spotipy.Spotify(auth=token)"
      ],
      "execution_count": 0,
      "outputs": []
    },
    {
      "metadata": {
        "id": "w2XyvyiNRoVZ",
        "colab_type": "code",
        "colab": {
          "base_uri": "https://localhost:8080/",
          "height": 204
        },
        "outputId": "50c2a133-8013-4652-8acf-537e9a33d155"
      },
      "cell_type": "code",
      "source": [
        "billboard = pd.read_csv(\"billboard_lyrics_1964-2015.csv\")\n",
        "billboard.head()"
      ],
      "execution_count": 16,
      "outputs": [
        {
          "output_type": "execute_result",
          "data": {
            "text/html": [
              "<div>\n",
              "<style scoped>\n",
              "    .dataframe tbody tr th:only-of-type {\n",
              "        vertical-align: middle;\n",
              "    }\n",
              "\n",
              "    .dataframe tbody tr th {\n",
              "        vertical-align: top;\n",
              "    }\n",
              "\n",
              "    .dataframe thead th {\n",
              "        text-align: right;\n",
              "    }\n",
              "</style>\n",
              "<table border=\"1\" class=\"dataframe\">\n",
              "  <thead>\n",
              "    <tr style=\"text-align: right;\">\n",
              "      <th></th>\n",
              "      <th>Rank</th>\n",
              "      <th>Song</th>\n",
              "      <th>Artist</th>\n",
              "      <th>Year</th>\n",
              "      <th>Lyrics</th>\n",
              "      <th>Source</th>\n",
              "    </tr>\n",
              "  </thead>\n",
              "  <tbody>\n",
              "    <tr>\n",
              "      <th>0</th>\n",
              "      <td>1</td>\n",
              "      <td>wooly bully</td>\n",
              "      <td>sam the sham and the pharaohs</td>\n",
              "      <td>1965</td>\n",
              "      <td>sam the sham miscellaneous wooly bully wooly b...</td>\n",
              "      <td>3.0</td>\n",
              "    </tr>\n",
              "    <tr>\n",
              "      <th>1</th>\n",
              "      <td>2</td>\n",
              "      <td>i cant help myself sugar pie honey bunch</td>\n",
              "      <td>four tops</td>\n",
              "      <td>1965</td>\n",
              "      <td>sugar pie honey bunch you know that i love yo...</td>\n",
              "      <td>1.0</td>\n",
              "    </tr>\n",
              "    <tr>\n",
              "      <th>2</th>\n",
              "      <td>3</td>\n",
              "      <td>i cant get no satisfaction</td>\n",
              "      <td>the rolling stones</td>\n",
              "      <td>1965</td>\n",
              "      <td></td>\n",
              "      <td>1.0</td>\n",
              "    </tr>\n",
              "    <tr>\n",
              "      <th>3</th>\n",
              "      <td>4</td>\n",
              "      <td>you were on my mind</td>\n",
              "      <td>we five</td>\n",
              "      <td>1965</td>\n",
              "      <td>when i woke up this morning you were on my mi...</td>\n",
              "      <td>1.0</td>\n",
              "    </tr>\n",
              "    <tr>\n",
              "      <th>4</th>\n",
              "      <td>5</td>\n",
              "      <td>youve lost that lovin feelin</td>\n",
              "      <td>the righteous brothers</td>\n",
              "      <td>1965</td>\n",
              "      <td>you never close your eyes anymore when i kiss...</td>\n",
              "      <td>1.0</td>\n",
              "    </tr>\n",
              "  </tbody>\n",
              "</table>\n",
              "</div>"
            ],
            "text/plain": [
              "   Rank                                      Song  \\\n",
              "0     1                               wooly bully   \n",
              "1     2  i cant help myself sugar pie honey bunch   \n",
              "2     3                i cant get no satisfaction   \n",
              "3     4                       you were on my mind   \n",
              "4     5              youve lost that lovin feelin   \n",
              "\n",
              "                          Artist  Year  \\\n",
              "0  sam the sham and the pharaohs  1965   \n",
              "1                      four tops  1965   \n",
              "2             the rolling stones  1965   \n",
              "3                        we five  1965   \n",
              "4         the righteous brothers  1965   \n",
              "\n",
              "                                              Lyrics  Source  \n",
              "0  sam the sham miscellaneous wooly bully wooly b...     3.0  \n",
              "1   sugar pie honey bunch you know that i love yo...     1.0  \n",
              "2                                                        1.0  \n",
              "3   when i woke up this morning you were on my mi...     1.0  \n",
              "4   you never close your eyes anymore when i kiss...     1.0  "
            ]
          },
          "metadata": {
            "tags": []
          },
          "execution_count": 16
        }
      ]
    },
    {
      "metadata": {
        "id": "JzQQzmn7uM_r",
        "colab_type": "code",
        "colab": {
          "base_uri": "https://localhost:8080/",
          "height": 204
        },
        "outputId": "47aee0bd-52a6-4067-b18e-23a91f960ca6"
      },
      "cell_type": "code",
      "source": [
        "temp = billboard.sort_values('Year',ascending=False)\n",
        "temp.head()"
      ],
      "execution_count": 17,
      "outputs": [
        {
          "output_type": "execute_result",
          "data": {
            "text/html": [
              "<div>\n",
              "<style scoped>\n",
              "    .dataframe tbody tr th:only-of-type {\n",
              "        vertical-align: middle;\n",
              "    }\n",
              "\n",
              "    .dataframe tbody tr th {\n",
              "        vertical-align: top;\n",
              "    }\n",
              "\n",
              "    .dataframe thead th {\n",
              "        text-align: right;\n",
              "    }\n",
              "</style>\n",
              "<table border=\"1\" class=\"dataframe\">\n",
              "  <thead>\n",
              "    <tr style=\"text-align: right;\">\n",
              "      <th></th>\n",
              "      <th>Rank</th>\n",
              "      <th>Song</th>\n",
              "      <th>Artist</th>\n",
              "      <th>Year</th>\n",
              "      <th>Lyrics</th>\n",
              "      <th>Source</th>\n",
              "    </tr>\n",
              "  </thead>\n",
              "  <tbody>\n",
              "    <tr>\n",
              "      <th>5099</th>\n",
              "      <td>100</td>\n",
              "      <td>how deep is your love</td>\n",
              "      <td>calvin harris and disciples</td>\n",
              "      <td>2015</td>\n",
              "      <td>i want you to breathe me in let me be your ai...</td>\n",
              "      <td>1.0</td>\n",
              "    </tr>\n",
              "    <tr>\n",
              "      <th>5036</th>\n",
              "      <td>37</td>\n",
              "      <td>talking body</td>\n",
              "      <td>tove lo</td>\n",
              "      <td>2015</td>\n",
              "      <td>bed stay in bed the feeling of your skin lock...</td>\n",
              "      <td>1.0</td>\n",
              "    </tr>\n",
              "    <tr>\n",
              "      <th>5026</th>\n",
              "      <td>27</td>\n",
              "      <td>good for you</td>\n",
              "      <td>selena gomez featuring aap rocky</td>\n",
              "      <td>2015</td>\n",
              "      <td>im on my 14 carats im 14 carat doing it up li...</td>\n",
              "      <td>1.0</td>\n",
              "    </tr>\n",
              "    <tr>\n",
              "      <th>5027</th>\n",
              "      <td>28</td>\n",
              "      <td>all about that bass</td>\n",
              "      <td>meghan trainor</td>\n",
              "      <td>2015</td>\n",
              "      <td>because you know im all about that bass bout ...</td>\n",
              "      <td>1.0</td>\n",
              "    </tr>\n",
              "    <tr>\n",
              "      <th>5028</th>\n",
              "      <td>29</td>\n",
              "      <td>style</td>\n",
              "      <td>taylor swift</td>\n",
              "      <td>2015</td>\n",
              "      <td>midnight you come and pick me up no headlight...</td>\n",
              "      <td>1.0</td>\n",
              "    </tr>\n",
              "  </tbody>\n",
              "</table>\n",
              "</div>"
            ],
            "text/plain": [
              "      Rank                   Song                            Artist  Year  \\\n",
              "5099   100  how deep is your love       calvin harris and disciples  2015   \n",
              "5036    37           talking body                           tove lo  2015   \n",
              "5026    27           good for you  selena gomez featuring aap rocky  2015   \n",
              "5027    28    all about that bass                    meghan trainor  2015   \n",
              "5028    29                  style                      taylor swift  2015   \n",
              "\n",
              "                                                 Lyrics  Source  \n",
              "5099   i want you to breathe me in let me be your ai...     1.0  \n",
              "5036   bed stay in bed the feeling of your skin lock...     1.0  \n",
              "5026   im on my 14 carats im 14 carat doing it up li...     1.0  \n",
              "5027   because you know im all about that bass bout ...     1.0  \n",
              "5028   midnight you come and pick me up no headlight...     1.0  "
            ]
          },
          "metadata": {
            "tags": []
          },
          "execution_count": 17
        }
      ]
    },
    {
      "metadata": {
        "id": "hT5bGpfgpSpq",
        "colab_type": "code",
        "colab": {
          "base_uri": "https://localhost:8080/",
          "height": 34
        },
        "outputId": "5d6adb19-77da-4a8e-ffcd-77190847bb06"
      },
      "cell_type": "code",
      "source": [
        "calvin = spotify.search(q='artist:' + 'calvin harris and disciples' + ' track:' + 'how deep is your love', type='track')\n",
        "calvin_uri = song['tracks']['items'][0]['uri']\n",
        "calvin_id = uri.split('spotify:track:')[1]\n",
        "calvin_id"
      ],
      "execution_count": 32,
      "outputs": [
        {
          "output_type": "execute_result",
          "data": {
            "text/plain": [
              "'6rMwYjoFvxKiaEH4If8ZpZ'"
            ]
          },
          "metadata": {
            "tags": []
          },
          "execution_count": 32
        }
      ]
    },
    {
      "metadata": {
        "id": "QQ2kfPS9pu51",
        "colab_type": "code",
        "colab": {
          "base_uri": "https://localhost:8080/",
          "height": 34
        },
        "outputId": "4ca68f30-42e8-441b-9e33-09d179091daf"
      },
      "cell_type": "code",
      "source": [
        "calvin_features = spotify.audio_features('6rMwYjoFvxKiaEH4If8ZpZ')\n",
        "calvin_features[0]['valence']"
      ],
      "execution_count": 34,
      "outputs": [
        {
          "output_type": "execute_result",
          "data": {
            "text/plain": [
              "0.111"
            ]
          },
          "metadata": {
            "tags": []
          },
          "execution_count": 34
        }
      ]
    },
    {
      "metadata": {
        "id": "AxjKFdlru6Z8",
        "colab_type": "code",
        "colab": {
          "base_uri": "https://localhost:8080/",
          "height": 34
        },
        "outputId": "96d7010d-ea60-49ac-9478-d0c4f11a3ee8"
      },
      "cell_type": "code",
      "source": [
        "wooly = spotify.search(q='artist:' + 'sam the sham and the pharaohs' + ' track:' + 'wooly bully', type='track')\n",
        "wooly_uri = song['tracks']['items'][0]['uri']\n",
        "wooly_id = uri.split('spotify:track:')[1]\n",
        "wooly_id"
      ],
      "execution_count": 36,
      "outputs": [
        {
          "output_type": "execute_result",
          "data": {
            "text/plain": [
              "'6rMwYjoFvxKiaEH4If8ZpZ'"
            ]
          },
          "metadata": {
            "tags": []
          },
          "execution_count": 36
        }
      ]
    },
    {
      "metadata": {
        "id": "STVg8Xtfxt1n",
        "colab_type": "code",
        "colab": {
          "base_uri": "https://localhost:8080/",
          "height": 34
        },
        "outputId": "654be40c-d4e4-4794-887c-2c1e4c060652"
      },
      "cell_type": "code",
      "source": [
        "wooly_features = spotify.audio_features('6rMwYjoFvxKiaEH4If8ZpZ')\n",
        "wooly_features[0]['valence']"
      ],
      "execution_count": 38,
      "outputs": [
        {
          "output_type": "execute_result",
          "data": {
            "text/plain": [
              "0.111"
            ]
          },
          "metadata": {
            "tags": []
          },
          "execution_count": 38
        }
      ]
    },
    {
      "metadata": {
        "id": "9hFAOvBlyNBh",
        "colab_type": "code",
        "colab": {}
      },
      "cell_type": "code",
      "source": [
        ""
      ],
      "execution_count": 0,
      "outputs": []
    }
  ]
}