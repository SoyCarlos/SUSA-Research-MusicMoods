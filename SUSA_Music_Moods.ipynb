{
 "cells": [
  {
   "cell_type": "code",
   "execution_count": 1,
   "metadata": {
    "colab": {},
    "colab_type": "code",
    "collapsed": true,
    "id": "-FDdcg-BuZcx"
   },
   "outputs": [],
   "source": [
    "import pandas as pd\n",
    "import spotipy\n",
    "import spotipy.util as util\n",
    "import json\n",
    "import numpy as np\n",
    "import matplotlib.pyplot as plt\n",
    "from tqdm import tqdm_notebook\n",
    "from google.cloud import language_v1\n",
    "from google.cloud.language_v1 import enums\n",
    "import six\n",
    "import os\n",
    "from scipy import optimize"
   ]
  },
  {
   "cell_type": "code",
   "execution_count": 2,
   "metadata": {
    "colab": {},
    "colab_type": "code",
    "collapsed": true,
    "id": "kTBBfIYUp8KD"
   },
   "outputs": [],
   "source": [
    "key_file = 'assets/keys.json'\n",
    "keys = json.load(open(key_file))\n",
    "\n",
    "SPOTIPY_CLIENT_ID= keys[\"client_id\"]\n",
    "SPOTIPY_CLIENT_SECRET= keys[\"client_secret\"]\n",
    "SPOTIPY_REDIRECT_URI= keys[\"redirect_url\"]\n",
    "\n",
    "os.environ[\"GOOGLE_APPLICATION_CREDENTIALS\"]=\"/Users/carlosortega/Documents/GitHub/SUSA-Research-MusicMoods/assets/google_keys.json\""
   ]
  },
  {
   "cell_type": "code",
   "execution_count": 3,
   "metadata": {
    "colab": {
     "base_uri": "https://localhost:8080/",
     "height": 292
    },
    "colab_type": "code",
    "collapsed": true,
    "id": "XZTKo-o4q8T1",
    "outputId": "ae0e6ca8-7cf0-43be-9926-a595ac34b14b"
   },
   "outputs": [],
   "source": [
    "token = util.prompt_for_user_token(\"1274418332\", \n",
    "                                   scope = \"user-library-read\", \n",
    "                                   client_id=SPOTIPY_CLIENT_ID, \n",
    "                                   client_secret=SPOTIPY_CLIENT_SECRET, \n",
    "                                   redirect_uri = SPOTIPY_REDIRECT_URI)\n",
    "spotify = spotipy.Spotify(auth=token)"
   ]
  },
  {
   "cell_type": "code",
   "execution_count": 4,
   "metadata": {
    "colab": {
     "base_uri": "https://localhost:8080/",
     "height": 204
    },
    "colab_type": "code",
    "id": "w2XyvyiNRoVZ",
    "outputId": "561f6a61-07ce-47c1-d92e-e72d7285103e"
   },
   "outputs": [
    {
     "data": {
      "text/html": [
       "<div>\n",
       "<style scoped>\n",
       "    .dataframe tbody tr th:only-of-type {\n",
       "        vertical-align: middle;\n",
       "    }\n",
       "\n",
       "    .dataframe tbody tr th {\n",
       "        vertical-align: top;\n",
       "    }\n",
       "\n",
       "    .dataframe thead th {\n",
       "        text-align: right;\n",
       "    }\n",
       "</style>\n",
       "<table border=\"1\" class=\"dataframe\">\n",
       "  <thead>\n",
       "    <tr style=\"text-align: right;\">\n",
       "      <th></th>\n",
       "      <th>Rank</th>\n",
       "      <th>Song</th>\n",
       "      <th>Artist</th>\n",
       "      <th>Year</th>\n",
       "      <th>Lyrics</th>\n",
       "      <th>Source</th>\n",
       "      <th>Query</th>\n",
       "    </tr>\n",
       "  </thead>\n",
       "  <tbody>\n",
       "    <tr>\n",
       "      <th>0</th>\n",
       "      <td>1</td>\n",
       "      <td>wooly bully</td>\n",
       "      <td>sam the sham and the pharaohs</td>\n",
       "      <td>1965</td>\n",
       "      <td>sam the sham miscellaneous wooly bully wooly b...</td>\n",
       "      <td>3.0</td>\n",
       "      <td>artist: sam the sham and the pharaohs, track: ...</td>\n",
       "    </tr>\n",
       "    <tr>\n",
       "      <th>1</th>\n",
       "      <td>2</td>\n",
       "      <td>i cant help myself sugar pie honey bunch</td>\n",
       "      <td>four tops</td>\n",
       "      <td>1965</td>\n",
       "      <td>sugar pie honey bunch you know that i love yo...</td>\n",
       "      <td>1.0</td>\n",
       "      <td>artist: four tops, track: i cant help myself s...</td>\n",
       "    </tr>\n",
       "    <tr>\n",
       "      <th>2</th>\n",
       "      <td>3</td>\n",
       "      <td>i cant get no satisfaction</td>\n",
       "      <td>the rolling stones</td>\n",
       "      <td>1965</td>\n",
       "      <td></td>\n",
       "      <td>1.0</td>\n",
       "      <td>artist: the rolling stones, track: i cant get ...</td>\n",
       "    </tr>\n",
       "    <tr>\n",
       "      <th>3</th>\n",
       "      <td>4</td>\n",
       "      <td>you were on my mind</td>\n",
       "      <td>we five</td>\n",
       "      <td>1965</td>\n",
       "      <td>when i woke up this morning you were on my mi...</td>\n",
       "      <td>1.0</td>\n",
       "      <td>artist: we five, track: you were on my mind</td>\n",
       "    </tr>\n",
       "    <tr>\n",
       "      <th>4</th>\n",
       "      <td>5</td>\n",
       "      <td>youve lost that lovin feelin</td>\n",
       "      <td>the righteous brothers</td>\n",
       "      <td>1965</td>\n",
       "      <td>you never close your eyes anymore when i kiss...</td>\n",
       "      <td>1.0</td>\n",
       "      <td>artist: the righteous brothers, track: youve l...</td>\n",
       "    </tr>\n",
       "  </tbody>\n",
       "</table>\n",
       "</div>"
      ],
      "text/plain": [
       "   Rank                                      Song  \\\n",
       "0     1                               wooly bully   \n",
       "1     2  i cant help myself sugar pie honey bunch   \n",
       "2     3                i cant get no satisfaction   \n",
       "3     4                       you were on my mind   \n",
       "4     5              youve lost that lovin feelin   \n",
       "\n",
       "                          Artist  Year  \\\n",
       "0  sam the sham and the pharaohs  1965   \n",
       "1                      four tops  1965   \n",
       "2             the rolling stones  1965   \n",
       "3                        we five  1965   \n",
       "4         the righteous brothers  1965   \n",
       "\n",
       "                                              Lyrics  Source  \\\n",
       "0  sam the sham miscellaneous wooly bully wooly b...     3.0   \n",
       "1   sugar pie honey bunch you know that i love yo...     1.0   \n",
       "2                                                        1.0   \n",
       "3   when i woke up this morning you were on my mi...     1.0   \n",
       "4   you never close your eyes anymore when i kiss...     1.0   \n",
       "\n",
       "                                               Query  \n",
       "0  artist: sam the sham and the pharaohs, track: ...  \n",
       "1  artist: four tops, track: i cant help myself s...  \n",
       "2  artist: the rolling stones, track: i cant get ...  \n",
       "3        artist: we five, track: you were on my mind  \n",
       "4  artist: the righteous brothers, track: youve l...  "
      ]
     },
     "execution_count": 4,
     "metadata": {},
     "output_type": "execute_result"
    }
   ],
   "source": [
    "billboard = pd.read_csv(\"data/billboard_lyrics_1964-2015.csv\")\n",
    "billboard['Query'] = 'artist: ' + billboard['Artist'] + ', track: ' + billboard['Song']\n",
    "billboard.head()"
   ]
  },
  {
   "cell_type": "code",
   "execution_count": 23,
   "metadata": {
    "colab": {
     "base_uri": "https://localhost:8080/",
     "height": 136
    },
    "colab_type": "code",
    "id": "uCHEvEfN24VP",
    "outputId": "0a78d226-130b-4074-d68c-d7b060b39c43"
   },
   "outputs": [
    {
     "data": {
      "text/plain": [
       "0.735"
      ]
     },
     "execution_count": 23,
     "metadata": {},
     "output_type": "execute_result"
    }
   ],
   "source": [
    "song_id = spotify.search(\"artist: kesha, track: tik tok\")['tracks']['items'][0]['id']\n",
    "valence = spotify.audio_features(song_id)[0]['valence']\n",
    "valence"
   ]
  },
  {
   "cell_type": "code",
   "execution_count": 13,
   "metadata": {
    "colab": {},
    "colab_type": "code",
    "id": "E0O2e6P724y5"
   },
   "outputs": [
    {
     "data": {
      "application/vnd.jupyter.widget-view+json": {
       "model_id": "4156c6e450b748a8ada16d46dbb1271b"
      }
     },
     "metadata": {},
     "output_type": "display_data"
    },
    {
     "name": "stdout",
     "output_type": "stream",
     "text": [
      "retrying ...1secs\n",
      "retrying ...1secs\n",
      "retrying ...1secs\n",
      "retrying ...1secs\n",
      "retrying ...1secs\n",
      "retrying ...1secs\n",
      "retrying ...1secs\n",
      "retrying ...1secs\n",
      "retrying ...1secs\n",
      "retrying ...1secs\n",
      "retrying ...1secs\n",
      "retrying ...1secs\n",
      "retrying ...1secs\n",
      "retrying ...1secs\n",
      "retrying ...1secs\n",
      "retrying ...1secs\n",
      "retrying ...1secs\n",
      "retrying ...1secs\n",
      "retrying ...1secs\n",
      "retrying ...1secs\n",
      "retrying ...1secs\n",
      "retrying ...1secs\n",
      "retrying ...1secs\n",
      "retrying ...1secs\n",
      "retrying ...1secs\n",
      "retrying ...1secs\n",
      "retrying ...1secs\n",
      "retrying ...1secs\n",
      "retrying ...1secs\n",
      "retrying ...1secs\n",
      "retrying ...1secs\n",
      "retrying ...1secs\n",
      "retrying ...1secs\n",
      "retrying ...1secs\n",
      "\n"
     ]
    }
   ],
   "source": [
    "valences = []\n",
    "durations = []\n",
    "for index, row in tqdm_notebook(billboard.iterrows()):\n",
    "    try:\n",
    "        curr_song = spotify.search(row['Query'])['tracks']['items'][0]['id']\n",
    "        valence = spotify.audio_features(curr_song)[0]['valence']\n",
    "        duration = spotify.audio_features(curr_song)[0]['duration_ms']\n",
    "        durations.append(duration)\n",
    "        valences.append(float(valence))\n",
    "    except:\n",
    "        valences.append(np.nan)\n",
    "        durations.append(np.nan)\n",
    "\n",
    "billboard['Valence'] = valences\n",
    "billboard['Duration_ms'] = durations"
   ]
  },
  {
   "cell_type": "code",
   "execution_count": 24,
   "metadata": {},
   "outputs": [
    {
     "data": {
      "text/html": [
       "<div>\n",
       "<style scoped>\n",
       "    .dataframe tbody tr th:only-of-type {\n",
       "        vertical-align: middle;\n",
       "    }\n",
       "\n",
       "    .dataframe tbody tr th {\n",
       "        vertical-align: top;\n",
       "    }\n",
       "\n",
       "    .dataframe thead th {\n",
       "        text-align: right;\n",
       "    }\n",
       "</style>\n",
       "<table border=\"1\" class=\"dataframe\">\n",
       "  <thead>\n",
       "    <tr style=\"text-align: right;\">\n",
       "      <th></th>\n",
       "      <th>Rank</th>\n",
       "      <th>Song</th>\n",
       "      <th>Artist</th>\n",
       "      <th>Year</th>\n",
       "      <th>Lyrics</th>\n",
       "      <th>Source</th>\n",
       "      <th>Query</th>\n",
       "    </tr>\n",
       "  </thead>\n",
       "  <tbody>\n",
       "    <tr>\n",
       "      <th>0</th>\n",
       "      <td>1</td>\n",
       "      <td>wooly bully</td>\n",
       "      <td>sam the sham and the pharaohs</td>\n",
       "      <td>1965</td>\n",
       "      <td>sam the sham miscellaneous wooly bully wooly b...</td>\n",
       "      <td>3.0</td>\n",
       "      <td>artist: sam the sham and the pharaohs, track: ...</td>\n",
       "    </tr>\n",
       "    <tr>\n",
       "      <th>1</th>\n",
       "      <td>2</td>\n",
       "      <td>i cant help myself sugar pie honey bunch</td>\n",
       "      <td>four tops</td>\n",
       "      <td>1965</td>\n",
       "      <td>sugar pie honey bunch you know that i love yo...</td>\n",
       "      <td>1.0</td>\n",
       "      <td>artist: four tops, track: i cant help myself s...</td>\n",
       "    </tr>\n",
       "    <tr>\n",
       "      <th>2</th>\n",
       "      <td>3</td>\n",
       "      <td>i cant get no satisfaction</td>\n",
       "      <td>the rolling stones</td>\n",
       "      <td>1965</td>\n",
       "      <td></td>\n",
       "      <td>1.0</td>\n",
       "      <td>artist: the rolling stones, track: i cant get ...</td>\n",
       "    </tr>\n",
       "    <tr>\n",
       "      <th>3</th>\n",
       "      <td>4</td>\n",
       "      <td>you were on my mind</td>\n",
       "      <td>we five</td>\n",
       "      <td>1965</td>\n",
       "      <td>when i woke up this morning you were on my mi...</td>\n",
       "      <td>1.0</td>\n",
       "      <td>artist: we five, track: you were on my mind</td>\n",
       "    </tr>\n",
       "    <tr>\n",
       "      <th>4</th>\n",
       "      <td>5</td>\n",
       "      <td>youve lost that lovin feelin</td>\n",
       "      <td>the righteous brothers</td>\n",
       "      <td>1965</td>\n",
       "      <td>you never close your eyes anymore when i kiss...</td>\n",
       "      <td>1.0</td>\n",
       "      <td>artist: the righteous brothers, track: youve l...</td>\n",
       "    </tr>\n",
       "  </tbody>\n",
       "</table>\n",
       "</div>"
      ],
      "text/plain": [
       "   Rank                                      Song  \\\n",
       "0     1                               wooly bully   \n",
       "1     2  i cant help myself sugar pie honey bunch   \n",
       "2     3                i cant get no satisfaction   \n",
       "3     4                       you were on my mind   \n",
       "4     5              youve lost that lovin feelin   \n",
       "\n",
       "                          Artist  Year  \\\n",
       "0  sam the sham and the pharaohs  1965   \n",
       "1                      four tops  1965   \n",
       "2             the rolling stones  1965   \n",
       "3                        we five  1965   \n",
       "4         the righteous brothers  1965   \n",
       "\n",
       "                                              Lyrics  Source  \\\n",
       "0  sam the sham miscellaneous wooly bully wooly b...     3.0   \n",
       "1   sugar pie honey bunch you know that i love yo...     1.0   \n",
       "2                                                        1.0   \n",
       "3   when i woke up this morning you were on my mi...     1.0   \n",
       "4   you never close your eyes anymore when i kiss...     1.0   \n",
       "\n",
       "                                               Query  \n",
       "0  artist: sam the sham and the pharaohs, track: ...  \n",
       "1  artist: four tops, track: i cant help myself s...  \n",
       "2  artist: the rolling stones, track: i cant get ...  \n",
       "3        artist: we five, track: you were on my mind  \n",
       "4  artist: the righteous brothers, track: youve l...  "
      ]
     },
     "execution_count": 24,
     "metadata": {},
     "output_type": "execute_result"
    }
   ],
   "source": [
    "billboard.to_csv(\"data/billboard_with_data.csv\", index=False)\n",
    "billboard.head()"
   ]
  },
  {
   "cell_type": "code",
   "execution_count": 6,
   "metadata": {
    "scrolled": true
   },
   "outputs": [
    {
     "data": {
      "text/html": [
       "<div>\n",
       "<style scoped>\n",
       "    .dataframe tbody tr th:only-of-type {\n",
       "        vertical-align: middle;\n",
       "    }\n",
       "\n",
       "    .dataframe tbody tr th {\n",
       "        vertical-align: top;\n",
       "    }\n",
       "\n",
       "    .dataframe thead th {\n",
       "        text-align: right;\n",
       "    }\n",
       "</style>\n",
       "<table border=\"1\" class=\"dataframe\">\n",
       "  <thead>\n",
       "    <tr style=\"text-align: right;\">\n",
       "      <th></th>\n",
       "      <th>Rank</th>\n",
       "      <th>Song</th>\n",
       "      <th>Artist</th>\n",
       "      <th>Year</th>\n",
       "      <th>Lyrics</th>\n",
       "      <th>Query</th>\n",
       "      <th>Valence</th>\n",
       "      <th>Duration_ms</th>\n",
       "      <th>Sentiment</th>\n",
       "    </tr>\n",
       "  </thead>\n",
       "  <tbody>\n",
       "    <tr>\n",
       "      <th>0</th>\n",
       "      <td>1</td>\n",
       "      <td>wooly bully</td>\n",
       "      <td>sam the sham and the pharaohs</td>\n",
       "      <td>1965</td>\n",
       "      <td>sam the sham miscellaneous wooly bully wooly b...</td>\n",
       "      <td>artist: sam the sham and the pharaohs, track: ...</td>\n",
       "      <td>0.558</td>\n",
       "      <td>140867.0</td>\n",
       "      <td>-0.9</td>\n",
       "    </tr>\n",
       "    <tr>\n",
       "      <th>1</th>\n",
       "      <td>2</td>\n",
       "      <td>i cant help myself sugar pie honey bunch</td>\n",
       "      <td>four tops</td>\n",
       "      <td>1965</td>\n",
       "      <td>sugar pie honey bunch you know that i love yo...</td>\n",
       "      <td>artist: four tops, track: i cant help myself s...</td>\n",
       "      <td>0.964</td>\n",
       "      <td>163680.0</td>\n",
       "      <td>-0.9</td>\n",
       "    </tr>\n",
       "    <tr>\n",
       "      <th>2</th>\n",
       "      <td>4</td>\n",
       "      <td>you were on my mind</td>\n",
       "      <td>we five</td>\n",
       "      <td>1965</td>\n",
       "      <td>when i woke up this morning you were on my mi...</td>\n",
       "      <td>artist: we five, track: you were on my mind</td>\n",
       "      <td>0.700</td>\n",
       "      <td>155960.0</td>\n",
       "      <td>0.6</td>\n",
       "    </tr>\n",
       "    <tr>\n",
       "      <th>3</th>\n",
       "      <td>5</td>\n",
       "      <td>youve lost that lovin feelin</td>\n",
       "      <td>the righteous brothers</td>\n",
       "      <td>1965</td>\n",
       "      <td>you never close your eyes anymore when i kiss...</td>\n",
       "      <td>artist: the righteous brothers, track: youve l...</td>\n",
       "      <td>0.376</td>\n",
       "      <td>226453.0</td>\n",
       "      <td>-0.2</td>\n",
       "    </tr>\n",
       "    <tr>\n",
       "      <th>4</th>\n",
       "      <td>6</td>\n",
       "      <td>downtown</td>\n",
       "      <td>petula clark</td>\n",
       "      <td>1965</td>\n",
       "      <td>when youre alone and life is making you lonel...</td>\n",
       "      <td>artist: petula clark, track: downtown</td>\n",
       "      <td>0.545</td>\n",
       "      <td>183120.0</td>\n",
       "      <td>0.7</td>\n",
       "    </tr>\n",
       "  </tbody>\n",
       "</table>\n",
       "</div>"
      ],
      "text/plain": [
       "   Rank                                      Song  \\\n",
       "0     1                               wooly bully   \n",
       "1     2  i cant help myself sugar pie honey bunch   \n",
       "2     4                       you were on my mind   \n",
       "3     5              youve lost that lovin feelin   \n",
       "4     6                                  downtown   \n",
       "\n",
       "                          Artist  Year  \\\n",
       "0  sam the sham and the pharaohs  1965   \n",
       "1                      four tops  1965   \n",
       "2                        we five  1965   \n",
       "3         the righteous brothers  1965   \n",
       "4                   petula clark  1965   \n",
       "\n",
       "                                              Lyrics  \\\n",
       "0  sam the sham miscellaneous wooly bully wooly b...   \n",
       "1   sugar pie honey bunch you know that i love yo...   \n",
       "2   when i woke up this morning you were on my mi...   \n",
       "3   you never close your eyes anymore when i kiss...   \n",
       "4   when youre alone and life is making you lonel...   \n",
       "\n",
       "                                               Query  Valence  Duration_ms  \\\n",
       "0  artist: sam the sham and the pharaohs, track: ...    0.558     140867.0   \n",
       "1  artist: four tops, track: i cant help myself s...    0.964     163680.0   \n",
       "2        artist: we five, track: you were on my mind    0.700     155960.0   \n",
       "3  artist: the righteous brothers, track: youve l...    0.376     226453.0   \n",
       "4              artist: petula clark, track: downtown    0.545     183120.0   \n",
       "\n",
       "   Sentiment  \n",
       "0       -0.9  \n",
       "1       -0.9  \n",
       "2        0.6  \n",
       "3       -0.2  \n",
       "4        0.7  "
      ]
     },
     "execution_count": 6,
     "metadata": {},
     "output_type": "execute_result"
    }
   ],
   "source": [
    "billboard_updated = pd.read_csv(\"data/billboard_with_data.csv\")\n",
    "billboard_updated['Lyrics'].replace('  ', np.nan, inplace=True)\n",
    "billboard_updated.dropna(axis=0,inplace=True)\n",
    "#billboard_updated.drop('Source', axis = 1, inplace=True)\n",
    "billboard_updated.head()"
   ]
  },
  {
   "cell_type": "code",
   "execution_count": 7,
   "metadata": {
    "collapsed": true
   },
   "outputs": [],
   "source": [
    "def authenticate():\n",
    "    from google.cloud import storage\n",
    "\n",
    "    storage_client = storage.Client()\n",
    "\n",
    "    # Make an authenticated API request\n",
    "    buckets = list(storage_client.list_buckets())\n",
    "\n",
    "authenticate()"
   ]
  },
  {
   "cell_type": "code",
   "execution_count": 17,
   "metadata": {},
   "outputs": [
    {
     "data": {
      "application/vnd.jupyter.widget-view+json": {
       "model_id": "ea446d9ae0394686b403fbe62577c574"
      }
     },
     "metadata": {},
     "output_type": "display_data"
    },
    {
     "name": "stdout",
     "output_type": "stream",
     "text": [
      "\n"
     ]
    }
   ],
   "source": [
    "lyrics = []\n",
    "for index, row in tqdm_notebook(billboard_updated.iterrows()):\n",
    "    lyric = row['Lyrics']\n",
    "    if isinstance(lyric, six.binary_type):\n",
    "        lyric = lyric.decode('utf-8')\n",
    "    lyrics.append(lyric)"
   ]
  },
  {
   "cell_type": "code",
   "execution_count": 18,
   "metadata": {},
   "outputs": [
    {
     "data": {
      "application/vnd.jupyter.widget-view+json": {
       "model_id": "c0a4a320413d4d859fd645e7f69c6ec8"
      }
     },
     "metadata": {},
     "output_type": "display_data"
    },
    {
     "name": "stdout",
     "output_type": "stream",
     "text": [
      "\n"
     ]
    }
   ],
   "source": [
    "client = language_v1.LanguageServiceClient()\n",
    "\n",
    "type_ = enums.Document.Type.PLAIN_TEXT\n",
    "\n",
    "sentiments = []\n",
    "for i in tqdm_notebook(range(len(lyrics))):\n",
    "    document = {'type': type_, 'content': lyrics[i]}\n",
    "    \n",
    "    try:\n",
    "        response = client.analyze_sentiment(document)\n",
    "    except:\n",
    "        sentiments.append(np.nan)\n",
    "        continue\n",
    "    \n",
    "    sentiment = response.document_sentiment\n",
    "    \n",
    "    sentiments.append(sentiment.score)\n",
    "\n",
    "billboard_updated['Sentiment'] = sentiments\n",
    "billboard_updated.dropna(axis=0,inplace=True)\n",
    "billboard_updated.to_csv(\"data/billboard_with_data.csv\", index=False)"
   ]
  },
  {
   "cell_type": "code",
   "execution_count": 8,
   "metadata": {},
   "outputs": [
    {
     "data": {
      "text/html": [
       "<div>\n",
       "<style scoped>\n",
       "    .dataframe tbody tr th:only-of-type {\n",
       "        vertical-align: middle;\n",
       "    }\n",
       "\n",
       "    .dataframe tbody tr th {\n",
       "        vertical-align: top;\n",
       "    }\n",
       "\n",
       "    .dataframe thead th {\n",
       "        text-align: right;\n",
       "    }\n",
       "</style>\n",
       "<table border=\"1\" class=\"dataframe\">\n",
       "  <thead>\n",
       "    <tr style=\"text-align: right;\">\n",
       "      <th></th>\n",
       "      <th>Rank</th>\n",
       "      <th>Song</th>\n",
       "      <th>Artist</th>\n",
       "      <th>Year</th>\n",
       "      <th>Lyrics</th>\n",
       "      <th>Query</th>\n",
       "      <th>Valence</th>\n",
       "      <th>Duration_ms</th>\n",
       "      <th>Sentiment</th>\n",
       "    </tr>\n",
       "  </thead>\n",
       "  <tbody>\n",
       "    <tr>\n",
       "      <th>0</th>\n",
       "      <td>1</td>\n",
       "      <td>wooly bully</td>\n",
       "      <td>sam the sham and the pharaohs</td>\n",
       "      <td>1965</td>\n",
       "      <td>sam the sham miscellaneous wooly bully wooly b...</td>\n",
       "      <td>artist: sam the sham and the pharaohs, track: ...</td>\n",
       "      <td>0.558</td>\n",
       "      <td>140867.0</td>\n",
       "      <td>-0.9</td>\n",
       "    </tr>\n",
       "    <tr>\n",
       "      <th>1</th>\n",
       "      <td>2</td>\n",
       "      <td>i cant help myself sugar pie honey bunch</td>\n",
       "      <td>four tops</td>\n",
       "      <td>1965</td>\n",
       "      <td>sugar pie honey bunch you know that i love yo...</td>\n",
       "      <td>artist: four tops, track: i cant help myself s...</td>\n",
       "      <td>0.964</td>\n",
       "      <td>163680.0</td>\n",
       "      <td>-0.9</td>\n",
       "    </tr>\n",
       "    <tr>\n",
       "      <th>2</th>\n",
       "      <td>4</td>\n",
       "      <td>you were on my mind</td>\n",
       "      <td>we five</td>\n",
       "      <td>1965</td>\n",
       "      <td>when i woke up this morning you were on my mi...</td>\n",
       "      <td>artist: we five, track: you were on my mind</td>\n",
       "      <td>0.700</td>\n",
       "      <td>155960.0</td>\n",
       "      <td>0.6</td>\n",
       "    </tr>\n",
       "    <tr>\n",
       "      <th>3</th>\n",
       "      <td>5</td>\n",
       "      <td>youve lost that lovin feelin</td>\n",
       "      <td>the righteous brothers</td>\n",
       "      <td>1965</td>\n",
       "      <td>you never close your eyes anymore when i kiss...</td>\n",
       "      <td>artist: the righteous brothers, track: youve l...</td>\n",
       "      <td>0.376</td>\n",
       "      <td>226453.0</td>\n",
       "      <td>-0.2</td>\n",
       "    </tr>\n",
       "    <tr>\n",
       "      <th>4</th>\n",
       "      <td>6</td>\n",
       "      <td>downtown</td>\n",
       "      <td>petula clark</td>\n",
       "      <td>1965</td>\n",
       "      <td>when youre alone and life is making you lonel...</td>\n",
       "      <td>artist: petula clark, track: downtown</td>\n",
       "      <td>0.545</td>\n",
       "      <td>183120.0</td>\n",
       "      <td>0.7</td>\n",
       "    </tr>\n",
       "  </tbody>\n",
       "</table>\n",
       "</div>"
      ],
      "text/plain": [
       "   Rank                                      Song  \\\n",
       "0     1                               wooly bully   \n",
       "1     2  i cant help myself sugar pie honey bunch   \n",
       "2     4                       you were on my mind   \n",
       "3     5              youve lost that lovin feelin   \n",
       "4     6                                  downtown   \n",
       "\n",
       "                          Artist  Year  \\\n",
       "0  sam the sham and the pharaohs  1965   \n",
       "1                      four tops  1965   \n",
       "2                        we five  1965   \n",
       "3         the righteous brothers  1965   \n",
       "4                   petula clark  1965   \n",
       "\n",
       "                                              Lyrics  \\\n",
       "0  sam the sham miscellaneous wooly bully wooly b...   \n",
       "1   sugar pie honey bunch you know that i love yo...   \n",
       "2   when i woke up this morning you were on my mi...   \n",
       "3   you never close your eyes anymore when i kiss...   \n",
       "4   when youre alone and life is making you lonel...   \n",
       "\n",
       "                                               Query  Valence  Duration_ms  \\\n",
       "0  artist: sam the sham and the pharaohs, track: ...    0.558     140867.0   \n",
       "1  artist: four tops, track: i cant help myself s...    0.964     163680.0   \n",
       "2        artist: we five, track: you were on my mind    0.700     155960.0   \n",
       "3  artist: the righteous brothers, track: youve l...    0.376     226453.0   \n",
       "4              artist: petula clark, track: downtown    0.545     183120.0   \n",
       "\n",
       "   Sentiment  \n",
       "0       -0.9  \n",
       "1       -0.9  \n",
       "2        0.6  \n",
       "3       -0.2  \n",
       "4        0.7  "
      ]
     },
     "execution_count": 8,
     "metadata": {},
     "output_type": "execute_result"
    }
   ],
   "source": [
    "billboard_updated = pd.read_csv(\"data/billboard_with_data.csv\")\n",
    "billboard_updated.head()"
   ]
  },
  {
   "cell_type": "code",
   "execution_count": 9,
   "metadata": {},
   "outputs": [
    {
     "name": "stderr",
     "output_type": "stream",
     "text": [
      "/Users/carlosortega/anaconda/lib/python3.6/site-packages/ipykernel_launcher.py:3: SettingWithCopyWarning: \n",
      "A value is trying to be set on a copy of a slice from a DataFrame.\n",
      "Try using .loc[row_indexer,col_indexer] = value instead\n",
      "\n",
      "See the caveats in the documentation: http://pandas.pydata.org/pandas-docs/stable/indexing.html#indexing-view-versus-copy\n",
      "  This is separate from the ipykernel package so we can avoid doing imports until\n",
      "/Users/carlosortega/anaconda/lib/python3.6/site-packages/ipykernel_launcher.py:4: SettingWithCopyWarning: \n",
      "A value is trying to be set on a copy of a slice from a DataFrame.\n",
      "Try using .loc[row_indexer,col_indexer] = value instead\n",
      "\n",
      "See the caveats in the documentation: http://pandas.pydata.org/pandas-docs/stable/indexing.html#indexing-view-versus-copy\n",
      "  after removing the cwd from sys.path.\n"
     ]
    },
    {
     "data": {
      "text/html": [
       "<div>\n",
       "<style scoped>\n",
       "    .dataframe tbody tr th:only-of-type {\n",
       "        vertical-align: middle;\n",
       "    }\n",
       "\n",
       "    .dataframe tbody tr th {\n",
       "        vertical-align: top;\n",
       "    }\n",
       "\n",
       "    .dataframe thead th {\n",
       "        text-align: right;\n",
       "    }\n",
       "</style>\n",
       "<table border=\"1\" class=\"dataframe\">\n",
       "  <thead>\n",
       "    <tr style=\"text-align: right;\">\n",
       "      <th></th>\n",
       "      <th>Year</th>\n",
       "      <th>Valence</th>\n",
       "      <th>Sentiment</th>\n",
       "      <th>Duration_ms</th>\n",
       "      <th>Word Count</th>\n",
       "      <th>Lyrical Density</th>\n",
       "    </tr>\n",
       "  </thead>\n",
       "  <tbody>\n",
       "    <tr>\n",
       "      <th>0</th>\n",
       "      <td>1965</td>\n",
       "      <td>0.558</td>\n",
       "      <td>-0.9</td>\n",
       "      <td>140867.0</td>\n",
       "      <td>662</td>\n",
       "      <td>4.699468</td>\n",
       "    </tr>\n",
       "    <tr>\n",
       "      <th>1</th>\n",
       "      <td>1965</td>\n",
       "      <td>0.964</td>\n",
       "      <td>-0.9</td>\n",
       "      <td>163680.0</td>\n",
       "      <td>995</td>\n",
       "      <td>6.078935</td>\n",
       "    </tr>\n",
       "    <tr>\n",
       "      <th>2</th>\n",
       "      <td>1965</td>\n",
       "      <td>0.700</td>\n",
       "      <td>0.6</td>\n",
       "      <td>155960.0</td>\n",
       "      <td>692</td>\n",
       "      <td>4.437035</td>\n",
       "    </tr>\n",
       "    <tr>\n",
       "      <th>3</th>\n",
       "      <td>1965</td>\n",
       "      <td>0.376</td>\n",
       "      <td>-0.2</td>\n",
       "      <td>226453.0</td>\n",
       "      <td>1173</td>\n",
       "      <td>5.179883</td>\n",
       "    </tr>\n",
       "    <tr>\n",
       "      <th>4</th>\n",
       "      <td>1965</td>\n",
       "      <td>0.545</td>\n",
       "      <td>0.7</td>\n",
       "      <td>183120.0</td>\n",
       "      <td>1333</td>\n",
       "      <td>7.279380</td>\n",
       "    </tr>\n",
       "  </tbody>\n",
       "</table>\n",
       "</div>"
      ],
      "text/plain": [
       "   Year  Valence  Sentiment  Duration_ms  Word Count  Lyrical Density\n",
       "0  1965    0.558       -0.9     140867.0         662         4.699468\n",
       "1  1965    0.964       -0.9     163680.0         995         6.078935\n",
       "2  1965    0.700        0.6     155960.0         692         4.437035\n",
       "3  1965    0.376       -0.2     226453.0        1173         5.179883\n",
       "4  1965    0.545        0.7     183120.0        1333         7.279380"
      ]
     },
     "execution_count": 9,
     "metadata": {},
     "output_type": "execute_result"
    }
   ],
   "source": [
    "#New Table with Only Necessary Info\n",
    "stats = billboard_updated[['Year', 'Valence', 'Sentiment', 'Duration_ms']]\n",
    "stats['Word Count'] = billboard_updated['Lyrics'].apply(len) \n",
    "stats['Lyrical Density'] = stats['Word Count'] / stats['Duration_ms'] * 1000\n",
    "stats.head()"
   ]
  },
  {
   "cell_type": "code",
   "execution_count": 10,
   "metadata": {},
   "outputs": [
    {
     "name": "stderr",
     "output_type": "stream",
     "text": [
      "/Users/carlosortega/anaconda/lib/python3.6/site-packages/ipykernel_launcher.py:2: SettingWithCopyWarning: \n",
      "A value is trying to be set on a copy of a slice from a DataFrame.\n",
      "Try using .loc[row_indexer,col_indexer] = value instead\n",
      "\n",
      "See the caveats in the documentation: http://pandas.pydata.org/pandas-docs/stable/indexing.html#indexing-view-versus-copy\n",
      "  \n"
     ]
    },
    {
     "data": {
      "text/html": [
       "<div>\n",
       "<style scoped>\n",
       "    .dataframe tbody tr th:only-of-type {\n",
       "        vertical-align: middle;\n",
       "    }\n",
       "\n",
       "    .dataframe tbody tr th {\n",
       "        vertical-align: top;\n",
       "    }\n",
       "\n",
       "    .dataframe thead th {\n",
       "        text-align: right;\n",
       "    }\n",
       "</style>\n",
       "<table border=\"1\" class=\"dataframe\">\n",
       "  <thead>\n",
       "    <tr style=\"text-align: right;\">\n",
       "      <th></th>\n",
       "      <th>Year</th>\n",
       "      <th>Valence</th>\n",
       "      <th>Sentiment</th>\n",
       "      <th>Duration_ms</th>\n",
       "      <th>Word Count</th>\n",
       "      <th>Lyrical Density</th>\n",
       "      <th>Gloom Index</th>\n",
       "    </tr>\n",
       "  </thead>\n",
       "  <tbody>\n",
       "    <tr>\n",
       "      <th>0</th>\n",
       "      <td>1965</td>\n",
       "      <td>0.558</td>\n",
       "      <td>-0.9</td>\n",
       "      <td>140867.0</td>\n",
       "      <td>662</td>\n",
       "      <td>4.699468</td>\n",
       "      <td>-2.343761</td>\n",
       "    </tr>\n",
       "    <tr>\n",
       "      <th>1</th>\n",
       "      <td>1965</td>\n",
       "      <td>0.964</td>\n",
       "      <td>-0.9</td>\n",
       "      <td>163680.0</td>\n",
       "      <td>995</td>\n",
       "      <td>6.078935</td>\n",
       "      <td>-3.167520</td>\n",
       "    </tr>\n",
       "    <tr>\n",
       "      <th>2</th>\n",
       "      <td>1965</td>\n",
       "      <td>0.700</td>\n",
       "      <td>0.6</td>\n",
       "      <td>155960.0</td>\n",
       "      <td>692</td>\n",
       "      <td>4.437035</td>\n",
       "      <td>1.781111</td>\n",
       "    </tr>\n",
       "    <tr>\n",
       "      <th>3</th>\n",
       "      <td>1965</td>\n",
       "      <td>0.376</td>\n",
       "      <td>-0.2</td>\n",
       "      <td>226453.0</td>\n",
       "      <td>1173</td>\n",
       "      <td>5.179883</td>\n",
       "      <td>-0.305988</td>\n",
       "    </tr>\n",
       "    <tr>\n",
       "      <th>4</th>\n",
       "      <td>1965</td>\n",
       "      <td>0.545</td>\n",
       "      <td>0.7</td>\n",
       "      <td>183120.0</td>\n",
       "      <td>1333</td>\n",
       "      <td>7.279380</td>\n",
       "      <td>3.125283</td>\n",
       "    </tr>\n",
       "  </tbody>\n",
       "</table>\n",
       "</div>"
      ],
      "text/plain": [
       "   Year  Valence  Sentiment  Duration_ms  Word Count  Lyrical Density  \\\n",
       "0  1965    0.558       -0.9     140867.0         662         4.699468   \n",
       "1  1965    0.964       -0.9     163680.0         995         6.078935   \n",
       "2  1965    0.700        0.6     155960.0         692         4.437035   \n",
       "3  1965    0.376       -0.2     226453.0        1173         5.179883   \n",
       "4  1965    0.545        0.7     183120.0        1333         7.279380   \n",
       "\n",
       "   Gloom Index  \n",
       "0    -2.343761  \n",
       "1    -3.167520  \n",
       "2     1.781111  \n",
       "3    -0.305988  \n",
       "4     3.125283  "
      ]
     },
     "execution_count": 10,
     "metadata": {},
     "output_type": "execute_result"
    }
   ],
   "source": [
    "gloom_index = ((1 - stats['Valence']) + (stats['Sentiment'] * (1 + stats['Lyrical Density']))) / 2\n",
    "stats['Gloom Index'] = gloom_index\n",
    "stats.head()"
   ]
  },
  {
   "cell_type": "code",
   "execution_count": 11,
   "metadata": {},
   "outputs": [
    {
     "data": {
      "image/png": "[encoded data removed]",
      "text/plain": [
       "<matplotlib.figure.Figure at 0x10bfbe400>"
      ]
     },
     "metadata": {},
     "output_type": "display_data"
    }
   ],
   "source": [
    "gloom_by_year = stats[['Year', 'Gloom Index']]\n",
    "plt.plot(gloom_by_year['Year'], gloom_by_year['Gloom Index'], ',')\n",
    "plt.show()"
   ]
  },
  {
   "cell_type": "code",
   "execution_count": 12,
   "metadata": {
    "scrolled": true
   },
   "outputs": [
    {
     "data": {
      "image/png": "[encoded data removed]",
      "text/plain": [
       "<matplotlib.figure.Figure at 0x10f6d4d68>"
      ]
     },
     "metadata": {},
     "output_type": "display_data"
    }
   ],
   "source": [
    "means = gloom_by_year.groupby(by=\"Year\").mean().reset_index()\n",
    "means.plot(\"Year\", \"Gloom Index\")\n",
    "plt.show()\n"
   ]
  },
  {
   "cell_type": "code",
   "execution_count": 13,
   "metadata": {},
   "outputs": [
    {
     "data": {
      "image/png": "[encoded data removed]",
      "text/plain": [
       "<matplotlib.figure.Figure at 0x10f6d0b70>"
      ]
     },
     "metadata": {},
     "output_type": "display_data"
    }
   ],
   "source": [
    "n60 = list(stats[stats['Year'] < 1970]['Gloom Index'])\n",
    "n70 = list(stats[(stats['Year'] >= 1970) & (stats['Year'] < 1980)]['Gloom Index'])\n",
    "n80 = list(stats[(stats['Year'] >= 1980) & (stats['Year'] < 1990)]['Gloom Index'])\n",
    "n90 = list(stats[(stats['Year'] >= 1990) & (stats['Year'] < 2000)]['Gloom Index'])\n",
    "n20 = list(stats[(stats['Year'] >= 2000) & (stats['Year'] < 2010)]['Gloom Index'])\n",
    "n2_1 = list(stats[(stats['Year'] >= 2010)]['Gloom Index'])\n",
    "\n",
    "labels = ['1960s', '1970s', '1980s', '1990s', '2000s', '2010s']\n",
    "\n",
    "plt.boxplot([n60, n70, n80, n90, n20, n2_1], showfliers=False, labels=labels)\n",
    "plt.show()"
   ]
  },
  {
   "cell_type": "code",
   "execution_count": 14,
   "metadata": {},
   "outputs": [
    {
     "data": {
      "image/png": "[encoded data removed]",
      "text/plain": [
       "<matplotlib.figure.Figure at 0x10f8199e8>"
      ]
     },
     "metadata": {},
     "output_type": "display_data"
    }
   ],
   "source": [
    "plt.scatter(means['Year'], means['Gloom Index'])\n",
    "plt.show()"
   ]
  },
  {
   "cell_type": "code",
   "execution_count": 44,
   "metadata": {},
   "outputs": [],
   "source": [
    "years = means[\"Year\"]\n",
    "gloom_index = means['Gloom Index']\n",
    "z = np.polyfit(x=years, y=gloom_index, deg=3)\n",
    "p = np.poly1d(z)\n",
    "xp = range(1965, 2016)"
   ]
  },
  {
   "cell_type": "code",
   "execution_count": 45,
   "metadata": {},
   "outputs": [
    {
     "data": {
      "image/png": "[encoded data removed]",
      "text/plain": [
       "<matplotlib.figure.Figure at 0x10f927f28>"
      ]
     },
     "metadata": {},
     "output_type": "display_data"
    }
   ],
   "source": [
    "_ = plt.plot(years, gloom_index, '.', xp, p(xp), '-')\n",
    "plt.show()"
   ]
  },
  {
   "cell_type": "code",
   "execution_count": null,
   "metadata": {
    "collapsed": true
   },
   "outputs": [],
   "source": []
  }
 ],
 "metadata": {
  "colab": {
   "collapsed_sections": [],
   "name": "SUSA Music Moods.ipynb",
   "provenance": [],
   "toc_visible": true,
   "version": "0.3.2"
  },
  "kernelspec": {
   "display_name": "Python 3",
   "language": "python",
   "name": "python3"
  },
  "language_info": {
   "codemirror_mode": {
    "name": "ipython",
    "version": 3
   },
   "file_extension": ".py",
   "mimetype": "text/x-python",
   "name": "python",
   "nbconvert_exporter": "python",
   "pygments_lexer": "ipython3",
   "version": "3.6.1"
  }
 },
 "nbformat": 4,
 "nbformat_minor": 1
}
