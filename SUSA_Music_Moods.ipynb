{
  "nbformat": 4,
  "nbformat_minor": 0,
  "metadata": {
    "colab": {
      "name": "SUSA Music Moods.ipynb",
      "version": "0.3.2",
      "provenance": [],
      "collapsed_sections": [],
      "toc_visible": true
    },
    "kernelspec": {
      "name": "python3",
      "display_name": "Python 3"
    }
  },
  "cells": [
    {
      "metadata": {
        "id": "3gfdwS3zEo4R",
        "colab_type": "code",
        "outputId": "b61af43e-a321-4f76-e0e9-a12820938de8",
        "colab": {
          "base_uri": "https://localhost:8080/",
          "height": 238
        }
      },
      "cell_type": "code",
      "source": [
        "!pip install spotipy"
      ],
      "execution_count": 1,
      "outputs": [
        {
          "output_type": "stream",
          "text": [
            "Collecting spotipy\n",
            "  Downloading https://files.pythonhosted.org/packages/59/46/3c957255c96910a8a0e2d9c25db1de51a8676ebba01d7966bedc6e748822/spotipy-2.4.4.tar.gz\n",
            "Requirement already satisfied: requests>=1.0 in /usr/local/lib/python3.6/dist-packages (from spotipy) (2.18.4)\n",
            "Requirement already satisfied: certifi>=2017.4.17 in /usr/local/lib/python3.6/dist-packages (from requests>=1.0->spotipy) (2018.10.15)\n",
            "Requirement already satisfied: idna<2.7,>=2.5 in /usr/local/lib/python3.6/dist-packages (from requests>=1.0->spotipy) (2.6)\n",
            "Requirement already satisfied: urllib3<1.23,>=1.21.1 in /usr/local/lib/python3.6/dist-packages (from requests>=1.0->spotipy) (1.22)\n",
            "Requirement already satisfied: chardet<3.1.0,>=3.0.2 in /usr/local/lib/python3.6/dist-packages (from requests>=1.0->spotipy) (3.0.4)\n",
            "Building wheels for collected packages: spotipy\n",
            "  Running setup.py bdist_wheel for spotipy ... \u001b[?25l-\b \bdone\n",
            "\u001b[?25h  Stored in directory: /root/.cache/pip/wheels/76/28/19/a86ca9bb0e32dbd4a4f580870250f5aeef852870578e0427e6\n",
            "Successfully built spotipy\n",
            "Installing collected packages: spotipy\n",
            "Successfully installed spotipy-2.4.4\n"
          ],
          "name": "stdout"
        }
      ]
    },
    {
      "metadata": {
        "id": "-FDdcg-BuZcx",
        "colab_type": "code",
        "colab": {}
      },
      "cell_type": "code",
      "source": [
        "import pandas as pd\n",
        "import nltk\n",
        "import spotipy\n",
        "import spotipy.util as util\n",
        "import json\n",
        "import numpy as np"
      ],
      "execution_count": 0,
      "outputs": []
    },
    {
      "metadata": {
        "id": "kTBBfIYUp8KD",
        "colab_type": "code",
        "colab": {}
      },
      "cell_type": "code",
      "source": [
        "key_file = 'keys.json'\n",
        "keys = json.load(open(key_file))\n",
        "\n",
        "SPOTIPY_CLIENT_ID= keys[\"client_id\"]\n",
        "SPOTIPY_CLIENT_SECRET= keys[\"client_secret\"]\n",
        "SPOTIPY_REDIRECT_URI= keys[\"redirect_url\"]"
      ],
      "execution_count": 0,
      "outputs": []
    },
    {
      "metadata": {
        "id": "XZTKo-o4q8T1",
        "colab_type": "code",
        "outputId": "ae0e6ca8-7cf0-43be-9926-a595ac34b14b",
        "colab": {
          "base_uri": "https://localhost:8080/",
          "height": 292
        }
      },
      "cell_type": "code",
      "source": [
        "token = util.prompt_for_user_token(\"1274418332\", \n",
        "                                   scope = \"user-library-read\", \n",
        "                                   client_id=SPOTIPY_CLIENT_ID, \n",
        "                                   client_secret=SPOTIPY_CLIENT_SECRET, \n",
        "                                   redirect_uri = SPOTIPY_REDIRECT_URI)\n",
        "spotify = spotipy.Spotify(auth=token)"
      ],
      "execution_count": 6,
      "outputs": [
        {
          "output_type": "stream",
          "text": [
            "\n",
            "\n",
            "            User authentication requires interaction with your\n",
            "            web browser. Once you enter your credentials and\n",
            "            give authorization, you will be redirected to\n",
            "            a url.  Paste that url you were directed to to\n",
            "            complete the authorization.\n",
            "\n",
            "        \n",
            "Opened https://accounts.spotify.com/authorize?client_id=b29ebdb5e8ac4efaa4e1afe0da5a7e7c&response_type=code&redirect_uri=http%3A%2F%2Fgoogle.com.mx%2F&scope=user-library-read in your browser\n",
            "\n",
            "\n",
            "Enter the URL you were redirected to: https://www.google.com.mx/?code=AQAD3RUb_Xpoqfv2vtUx8G3bbt24BrkG6jwR2Bqyv0eIkgnE0H0zLEThPNBHj1I8YY3O7Q1CE8lPlSgJ7v6I8t2nAnCHDv79wcelJa8EyJ85CSr_miJtolmLPiVXsWpCL_lq05MJTZH2SD_f_WWyHl7KxJSPamZCJkxyGMzkWGAO1YRnuiGQYEdib-w6w3VCBaf0D6gs_HB2X9TmkeLNEQ\n",
            "\n",
            "\n"
          ],
          "name": "stdout"
        }
      ]
    },
    {
      "metadata": {
        "id": "w2XyvyiNRoVZ",
        "colab_type": "code",
        "outputId": "561f6a61-07ce-47c1-d92e-e72d7285103e",
        "colab": {
          "base_uri": "https://localhost:8080/",
          "height": 204
        }
      },
      "cell_type": "code",
      "source": [
        "billboard = pd.read_csv(\"billboard_lyrics_1964-2015.csv\")\n",
        "billboard.head()"
      ],
      "execution_count": 7,
      "outputs": [
        {
          "output_type": "execute_result",
          "data": {
            "text/html": [
              "<div>\n",
              "<style scoped>\n",
              "    .dataframe tbody tr th:only-of-type {\n",
              "        vertical-align: middle;\n",
              "    }\n",
              "\n",
              "    .dataframe tbody tr th {\n",
              "        vertical-align: top;\n",
              "    }\n",
              "\n",
              "    .dataframe thead th {\n",
              "        text-align: right;\n",
              "    }\n",
              "</style>\n",
              "<table border=\"1\" class=\"dataframe\">\n",
              "  <thead>\n",
              "    <tr style=\"text-align: right;\">\n",
              "      <th></th>\n",
              "      <th>Rank</th>\n",
              "      <th>Song</th>\n",
              "      <th>Artist</th>\n",
              "      <th>Year</th>\n",
              "      <th>Lyrics</th>\n",
              "      <th>Source</th>\n",
              "    </tr>\n",
              "  </thead>\n",
              "  <tbody>\n",
              "    <tr>\n",
              "      <th>0</th>\n",
              "      <td>1</td>\n",
              "      <td>wooly bully</td>\n",
              "      <td>sam the sham and the pharaohs</td>\n",
              "      <td>1965</td>\n",
              "      <td>sam the sham miscellaneous wooly bully wooly b...</td>\n",
              "      <td>3.0</td>\n",
              "    </tr>\n",
              "    <tr>\n",
              "      <th>1</th>\n",
              "      <td>2</td>\n",
              "      <td>i cant help myself sugar pie honey bunch</td>\n",
              "      <td>four tops</td>\n",
              "      <td>1965</td>\n",
              "      <td>sugar pie honey bunch you know that i love yo...</td>\n",
              "      <td>1.0</td>\n",
              "    </tr>\n",
              "    <tr>\n",
              "      <th>2</th>\n",
              "      <td>3</td>\n",
              "      <td>i cant get no satisfaction</td>\n",
              "      <td>the rolling stones</td>\n",
              "      <td>1965</td>\n",
              "      <td></td>\n",
              "      <td>1.0</td>\n",
              "    </tr>\n",
              "    <tr>\n",
              "      <th>3</th>\n",
              "      <td>4</td>\n",
              "      <td>you were on my mind</td>\n",
              "      <td>we five</td>\n",
              "      <td>1965</td>\n",
              "      <td>when i woke up this morning you were on my mi...</td>\n",
              "      <td>1.0</td>\n",
              "    </tr>\n",
              "    <tr>\n",
              "      <th>4</th>\n",
              "      <td>5</td>\n",
              "      <td>youve lost that lovin feelin</td>\n",
              "      <td>the righteous brothers</td>\n",
              "      <td>1965</td>\n",
              "      <td>you never close your eyes anymore when i kiss...</td>\n",
              "      <td>1.0</td>\n",
              "    </tr>\n",
              "  </tbody>\n",
              "</table>\n",
              "</div>"
            ],
            "text/plain": [
              "   Rank                                      Song  \\\n",
              "0     1                               wooly bully   \n",
              "1     2  i cant help myself sugar pie honey bunch   \n",
              "2     3                i cant get no satisfaction   \n",
              "3     4                       you were on my mind   \n",
              "4     5              youve lost that lovin feelin   \n",
              "\n",
              "                          Artist  Year  \\\n",
              "0  sam the sham and the pharaohs  1965   \n",
              "1                      four tops  1965   \n",
              "2             the rolling stones  1965   \n",
              "3                        we five  1965   \n",
              "4         the righteous brothers  1965   \n",
              "\n",
              "                                              Lyrics  Source  \n",
              "0  sam the sham miscellaneous wooly bully wooly b...     3.0  \n",
              "1   sugar pie honey bunch you know that i love yo...     1.0  \n",
              "2                                                        1.0  \n",
              "3   when i woke up this morning you were on my mi...     1.0  \n",
              "4   you never close your eyes anymore when i kiss...     1.0  "
            ]
          },
          "metadata": {
            "tags": []
          },
          "execution_count": 7
        }
      ]
    },
    {
      "metadata": {
        "id": "9hFAOvBlyNBh",
        "colab_type": "code",
        "colab": {}
      },
      "cell_type": "code",
      "source": [
        "def get_valence():\n",
        "    try:\n",
        "        song = spotify.search(q='artist:' + artist + ' track:' + song, type='track')\n",
        "        song_uri = song['tracks']['items'][0]['uri']\n",
        "        song_id = song_uri.split('spotify:track:')[1]\n",
        "        song_features = spotify.audio_features(song_id)\n",
        "        valence = song_features[0]['valence']\n",
        "        print('success: ' + str(year))\n",
        "        return valence\n",
        "    except IndexError as error:\n",
        "        print('fail')\n",
        "        return np.nan"
      ],
      "execution_count": 0,
      "outputs": []
    },
    {
      "metadata": {
        "id": "8y5C1Ky2u_-9",
        "colab_type": "code",
        "colab": {}
      },
      "cell_type": "code",
      "source": [
        "billboard['Query'] = 'artist: ' + billboard['Artist'] + ', track: ' + billboard['Song']"
      ],
      "execution_count": 0,
      "outputs": []
    },
    {
      "metadata": {
        "id": "2mnOIXRi2qTZ",
        "colab_type": "code",
        "colab": {}
      },
      "cell_type": "code",
      "source": [
        "sixties = billboard[billboard['Year'] < 1970]\n",
        "seventies = billboard[(billboard['Year'] >= 1970) & (billboard['Year'] < 1980)]\n",
        "eighties = billboard[(billboard['Year'] >= 1980) & (billboard['Year'] < 1990)]\n",
        "nineties = billboard[(billboard['Year'] >= 1990) & (billboard['Year'] < 2000)]\n",
        "thousands = billboard[(billboard['Year'] >= 2000) & (billboard['Year'] < 2010)]\n",
        "twenty_tens = billboard[(billboard['Year'] >= 2010) & (billboard['Year'] < 2020)]"
      ],
      "execution_count": 0,
      "outputs": []
    },
    {
      "metadata": {
        "id": "ROjf4tLByZ9i",
        "colab_type": "code",
        "colab": {
          "base_uri": "https://localhost:8080/",
          "height": 204
        },
        "outputId": "6c22af01-682a-4b99-af7f-d814514bfacf"
      },
      "cell_type": "code",
      "source": [
        "twenty_tens.head()"
      ],
      "execution_count": 52,
      "outputs": [
        {
          "output_type": "execute_result",
          "data": {
            "text/html": [
              "<div>\n",
              "<style scoped>\n",
              "    .dataframe tbody tr th:only-of-type {\n",
              "        vertical-align: middle;\n",
              "    }\n",
              "\n",
              "    .dataframe tbody tr th {\n",
              "        vertical-align: top;\n",
              "    }\n",
              "\n",
              "    .dataframe thead th {\n",
              "        text-align: right;\n",
              "    }\n",
              "</style>\n",
              "<table border=\"1\" class=\"dataframe\">\n",
              "  <thead>\n",
              "    <tr style=\"text-align: right;\">\n",
              "      <th></th>\n",
              "      <th>Rank</th>\n",
              "      <th>Song</th>\n",
              "      <th>Artist</th>\n",
              "      <th>Year</th>\n",
              "      <th>Lyrics</th>\n",
              "      <th>Source</th>\n",
              "      <th>Query</th>\n",
              "    </tr>\n",
              "  </thead>\n",
              "  <tbody>\n",
              "    <tr>\n",
              "      <th>4500</th>\n",
              "      <td>1</td>\n",
              "      <td>tik tok</td>\n",
              "      <td>keha</td>\n",
              "      <td>2010</td>\n",
              "      <td>wake up in the morning feeling like p diddy h...</td>\n",
              "      <td>1.0</td>\n",
              "      <td>artist: keha, track: tik tok</td>\n",
              "    </tr>\n",
              "    <tr>\n",
              "      <th>4501</th>\n",
              "      <td>2</td>\n",
              "      <td>need you now</td>\n",
              "      <td>lady antebellum</td>\n",
              "      <td>2010</td>\n",
              "      <td>picture perfect memories scattered all around...</td>\n",
              "      <td>1.0</td>\n",
              "      <td>artist: lady antebellum, track: need you now</td>\n",
              "    </tr>\n",
              "    <tr>\n",
              "      <th>4502</th>\n",
              "      <td>3</td>\n",
              "      <td>hey soul sister</td>\n",
              "      <td>train</td>\n",
              "      <td>2010</td>\n",
              "      <td>hey hey hey hey hey heyyour lipstick stains o...</td>\n",
              "      <td>1.0</td>\n",
              "      <td>artist: train, track: hey soul sister</td>\n",
              "    </tr>\n",
              "    <tr>\n",
              "      <th>4503</th>\n",
              "      <td>4</td>\n",
              "      <td>california gurls</td>\n",
              "      <td>katy perry featuring snoop dogg</td>\n",
              "      <td>2010</td>\n",
              "      <td>snoop dogg greetings loved ones lets take a j...</td>\n",
              "      <td>1.0</td>\n",
              "      <td>artist: katy perry featuring snoop dogg, track...</td>\n",
              "    </tr>\n",
              "    <tr>\n",
              "      <th>4504</th>\n",
              "      <td>5</td>\n",
              "      <td>omg</td>\n",
              "      <td>usher featuring william</td>\n",
              "      <td>2010</td>\n",
              "      <td>oh my gosh baby let me did it again so imma l...</td>\n",
              "      <td>1.0</td>\n",
              "      <td>artist: usher featuring william, track: omg</td>\n",
              "    </tr>\n",
              "  </tbody>\n",
              "</table>\n",
              "</div>"
            ],
            "text/plain": [
              "      Rank              Song                           Artist  Year  \\\n",
              "4500     1           tik tok                             keha  2010   \n",
              "4501     2      need you now                  lady antebellum  2010   \n",
              "4502     3   hey soul sister                            train  2010   \n",
              "4503     4  california gurls  katy perry featuring snoop dogg  2010   \n",
              "4504     5               omg          usher featuring william  2010   \n",
              "\n",
              "                                                 Lyrics  Source  \\\n",
              "4500   wake up in the morning feeling like p diddy h...     1.0   \n",
              "4501   picture perfect memories scattered all around...     1.0   \n",
              "4502   hey hey hey hey hey heyyour lipstick stains o...     1.0   \n",
              "4503   snoop dogg greetings loved ones lets take a j...     1.0   \n",
              "4504   oh my gosh baby let me did it again so imma l...     1.0   \n",
              "\n",
              "                                                  Query  \n",
              "4500                       artist: keha, track: tik tok  \n",
              "4501       artist: lady antebellum, track: need you now  \n",
              "4502              artist: train, track: hey soul sister  \n",
              "4503  artist: katy perry featuring snoop dogg, track...  \n",
              "4504        artist: usher featuring william, track: omg  "
            ]
          },
          "metadata": {
            "tags": []
          },
          "execution_count": 52
        }
      ]
    },
    {
      "metadata": {
        "id": "07j68L6Sz2sy",
        "colab_type": "code",
        "colab": {
          "base_uri": "https://localhost:8080/",
          "height": 181
        },
        "outputId": "c2317e8e-385b-4bef-a47e-ab0a8d932501"
      },
      "cell_type": "code",
      "source": [
        "song = spotify.search(q= twenty_tens['Query'][4500], type='track')\n",
        "song_uri = song['tracks']['items'][0]['uri']"
      ],
      "execution_count": 55,
      "outputs": [
        {
          "output_type": "error",
          "ename": "IndexError",
          "evalue": "ignored",
          "traceback": [
            "\u001b[0;31m---------------------------------------------------------------------------\u001b[0m",
            "\u001b[0;31mIndexError\u001b[0m                                Traceback (most recent call last)",
            "\u001b[0;32m<ipython-input-55-7f9ca7829622>\u001b[0m in \u001b[0;36m<module>\u001b[0;34m()\u001b[0m\n\u001b[1;32m      1\u001b[0m \u001b[0msong\u001b[0m \u001b[0;34m=\u001b[0m \u001b[0mspotify\u001b[0m\u001b[0;34m.\u001b[0m\u001b[0msearch\u001b[0m\u001b[0;34m(\u001b[0m\u001b[0mq\u001b[0m\u001b[0;34m=\u001b[0m \u001b[0mtwenty_tens\u001b[0m\u001b[0;34m[\u001b[0m\u001b[0;34m'Query'\u001b[0m\u001b[0;34m]\u001b[0m\u001b[0;34m[\u001b[0m\u001b[0;36m4500\u001b[0m\u001b[0;34m]\u001b[0m\u001b[0;34m,\u001b[0m \u001b[0mtype\u001b[0m\u001b[0;34m=\u001b[0m\u001b[0;34m'track'\u001b[0m\u001b[0;34m)\u001b[0m\u001b[0;34m\u001b[0m\u001b[0m\n\u001b[0;32m----> 2\u001b[0;31m \u001b[0msong_uri\u001b[0m \u001b[0;34m=\u001b[0m \u001b[0msong\u001b[0m\u001b[0;34m[\u001b[0m\u001b[0;34m'tracks'\u001b[0m\u001b[0;34m]\u001b[0m\u001b[0;34m[\u001b[0m\u001b[0;34m'items'\u001b[0m\u001b[0;34m]\u001b[0m\u001b[0;34m[\u001b[0m\u001b[0;36m0\u001b[0m\u001b[0;34m]\u001b[0m\u001b[0;34m[\u001b[0m\u001b[0;34m'uri'\u001b[0m\u001b[0;34m]\u001b[0m\u001b[0;34m\u001b[0m\u001b[0m\n\u001b[0m",
            "\u001b[0;31mIndexError\u001b[0m: list index out of range"
          ]
        }
      ]
    },
    {
      "metadata": {
        "id": "uCHEvEfN24VP",
        "colab_type": "code",
        "colab": {
          "base_uri": "https://localhost:8080/",
          "height": 136
        },
        "outputId": "0a78d226-130b-4074-d68c-d7b060b39c43"
      },
      "cell_type": "code",
      "source": [
        "song_uri"
      ],
      "execution_count": 54,
      "outputs": [
        {
          "output_type": "execute_result",
          "data": {
            "text/plain": [
              "{'href': 'https://api.spotify.com/v1/search?query=artist%3A+keha%2C+track%3A+tik+tok&type=track&market=US&offset=0&limit=10',\n",
              " 'items': [],\n",
              " 'limit': 10,\n",
              " 'next': None,\n",
              " 'offset': 0,\n",
              " 'previous': None,\n",
              " 'total': 0}"
            ]
          },
          "metadata": {
            "tags": []
          },
          "execution_count": 54
        }
      ]
    },
    {
      "metadata": {
        "id": "E0O2e6P724y5",
        "colab_type": "code",
        "colab": {}
      },
      "cell_type": "code",
      "source": [
        ""
      ],
      "execution_count": 0,
      "outputs": []
    }
  ]
}